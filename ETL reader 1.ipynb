{
 "cells": [
  {
   "cell_type": "code",
   "execution_count": 5,
   "id": "237a85c6",
   "metadata": {},
   "outputs": [
    {
     "name": "stdout",
     "output_type": "stream",
     "text": [
      "112\n"
     ]
    },
    {
     "data": {
      "text/plain": [
       "a: Int = 100\r\n",
       "b: Int = 12\r\n",
       "c: Int = 112\r\n"
      ]
     },
     "execution_count": 5,
     "metadata": {},
     "output_type": "execute_result"
    }
   ],
   "source": [
    "val a = 100\n",
    "val b = 12\n",
    "var c = a+b\n",
    "println(c)"
   ]
  },
  {
   "cell_type": "code",
   "execution_count": null,
   "id": "fb4af851",
   "metadata": {},
   "outputs": [],
   "source": []
  },
  {
   "cell_type": "code",
   "execution_count": null,
   "id": "6d253ca0",
   "metadata": {},
   "outputs": [],
   "source": []
  },
  {
   "cell_type": "code",
   "execution_count": 8,
   "id": "bc78261c",
   "metadata": {},
   "outputs": [
    {
     "ename": "<console>",
     "evalue": "24: error: object implicits is not a member of package org.apache.spark\r",
     "output_type": "error",
     "traceback": [
      "<console>:24: error: object implicits is not a member of package org.apache.spark\r",
      "       import org.apache.spark.implicits._\r",
      "                               ^\r",
      ""
     ]
    }
   ],
   "source": [
    "import org.apache.spark.sql.SparkSession\n",
    "import org.apache.spark.implicits._\n",
    "\n",
    "// Create a SparkSession\n",
    "val spark = SparkSession.builder()\n",
    "  .appName(\"Read Text File\")\n",
    "  .master(\"local[*]\")  // Set master URL for Spark\n",
    "  .getOrCreate()\n",
    "\n",
    "// Read text file\n",
    "val textFileDF = spark.read.csv(\"C:/Users/The-lie-lama/Desktop/source.csv\")\n",
    "println(textFileDF)\n",
    "\n"
   ]
  },
  {
   "cell_type": "code",
   "execution_count": 26,
   "id": "b3f916e7",
   "metadata": {},
   "outputs": [
    {
     "data": {
      "text/plain": [
       "import org.apache.spark.sql.SparkSession\r\n",
       "spark: org.apache.spark.sql.SparkSession = org.apache.spark.sql.SparkSession@205bd6d0\r\n",
       "columns: Seq[String] = List(language, users_count)\r\n",
       "data: Seq[(String, String)] = List((Java,20000), (Python,100000), (Scala,3000))\r\n",
       "rdd: org.apache.spark.rdd.RDD[(String, String)] = ParallelCollectionRDD[0] at parallelize at <console>:42\r\n"
      ]
     },
     "execution_count": 26,
     "metadata": {},
     "output_type": "execute_result"
    }
   ],
   "source": [
    "import org.apache.spark.sql.SparkSession\n",
    "\n",
    "// Create SparkSession and Prepare Data\n",
    "val spark:SparkSession = SparkSession.builder()\n",
    "   .master(\"local[1]\").appName(\"SparkByExamples.com\")\n",
    "   .getOrCreate()\n",
    "\n",
    "// Create data\n",
    "val columns = Seq(\"language\",\"users_count\")\n",
    "val data = Seq((\"Java\", \"20000\"), (\"Python\", \"100000\"), (\"Scala\", \"3000\"))\n",
    "val rdd = spark.sparkContext.parallelize(data)\n",
    "\n"
   ]
  },
  {
   "cell_type": "code",
   "execution_count": 1,
   "id": "be797837",
   "metadata": {},
   "outputs": [
    {
     "data": {
      "text/plain": [
       "Intitializing Scala interpreter ..."
      ]
     },
     "metadata": {},
     "output_type": "display_data"
    },
    {
     "data": {
      "text/plain": [
       "Spark Web UI available at http://DESKTOP-GM4M671:4040\n",
       "SparkContext available as 'sc' (version = 3.4.2, master = local[*], app id = local-1712731718912)\n",
       "SparkSession available as 'spark'\n"
      ]
     },
     "metadata": {},
     "output_type": "display_data"
    },
    {
     "ename": "<console>",
     "evalue": "24: error: not found: value rdd\r",
     "output_type": "error",
     "traceback": [
      "<console>:24: error: not found: value rdd\r",
      "       val dfFromRDD1 = rdd.toDF()\r",
      "                        ^\r",
      ""
     ]
    }
   ],
   "source": [
    "import spark.implicits._\n",
    "val dfFromRDD1 = rdd.toDF()\n",
    "dfFromRDD1.printSchema()\n",
    "dfFromRDD1.show()\n"
   ]
  },
  {
   "cell_type": "code",
   "execution_count": 35,
   "id": "76b550c9",
   "metadata": {},
   "outputs": [
    {
     "name": "stdout",
     "output_type": "stream",
     "text": [
      "+------+------+\n",
      "|    _1|    _2|\n",
      "+------+------+\n",
      "|  Java| 20000|\n",
      "|Python|100000|\n",
      "| Scala|  3000|\n",
      "+------+------+\n",
      "\n"
     ]
    }
   ],
   "source": [
    "dfFromRDD1.show()"
   ]
  },
  {
   "cell_type": "code",
   "execution_count": 62,
   "id": "dadb003f",
   "metadata": {},
   "outputs": [
    {
     "data": {
      "text/plain": [
       "import org.apache.spark.sql.SparkSession\r\n",
       "defined object Classes\r\n"
      ]
     },
     "execution_count": 62,
     "metadata": {},
     "output_type": "execute_result"
    }
   ],
   "source": [
    "import org.apache.spark.sql.SparkSession\n",
    "\n",
    "object Classes {\n",
    "    def main(args: Array[String]) = {\n",
    "    //println(pt)\n",
    "        val spark:SparkSession = SparkSession.builder()\n",
    "        .master(\"local[1]\").appName(\"SparkByExamples.com\").getOrCreate()\n",
    "      \n",
    "      \n",
    "      \n",
    "    \n",
    "  }\n",
    "    def func1{\n",
    "        val columns = Seq(\"language\",\"users_count\")\n",
    "        val data = Seq((\"Java\", \"20000\"), (\"Python\", \"100000\"), (\"Scala\", \"3000\"))\n",
    "        val rdd = spark.sparkContext.parallelize(data)\n",
    "        val dfFromRDD1 = rdd.toDF()\n",
    "        dfFromRDD1.show()\n",
    "    }\n",
    "    \n",
    "    //println(func1)\n",
    "    \n",
    "}"
   ]
  },
  {
   "cell_type": "code",
   "execution_count": 84,
   "id": "88513ae8",
   "metadata": {},
   "outputs": [
    {
     "data": {
      "text/plain": [
       "defined object Classes\r\n"
      ]
     },
     "execution_count": 84,
     "metadata": {},
     "output_type": "execute_result"
    }
   ],
   "source": [
    "\n",
    "object Classes {\n",
    "    def main(args: Array[String]) = {\n",
    "        println(\"hello man\")\n",
    "        \n",
    "    }\n",
    "    \n",
    "}\n",
    "\n",
    "    "
   ]
  },
  {
   "cell_type": "code",
   "execution_count": 4,
   "id": "af67f159",
   "metadata": {},
   "outputs": [
    {
     "ename": "<console>",
     "evalue": "24: error: object implicits is not a member of package org.apache.spark\r",
     "output_type": "error",
     "traceback": [
      "<console>:24: error: object implicits is not a member of package org.apache.spark\r",
      "       import org.apache.spark.implicits._\r",
      "                               ^\r",
      "<console>:33: error: org.apache.spark.sql.DataFrameReader does not take parameters\r",
      "       val reader1 = spark.read(\"C:/Users/The-lie-lama/Desktop/source.csv\")\r",
      "                               ^\r",
      ""
     ]
    }
   ],
   "source": [
    "import org.apache.spark.sql.SparkSession\n",
    "import org.apache.spark.implicits._\n",
    "\n",
    "// Create a SparkSession\n",
    "val spark = SparkSession.builder()\n",
    "  .appName(\"Read Text File\")\n",
    "  .master(\"local[*]\")  // Set master URL for Spark\n",
    "  .getOrCreate()\n",
    "\n",
    "\n",
    "val reader1 = spark.read(\"C:/Users/The-lie-lama/Desktop/source.csv\")\n",
    "reader1.show"
   ]
  },
  {
   "cell_type": "code",
   "execution_count": null,
   "id": "2fa07185",
   "metadata": {},
   "outputs": [],
   "source": []
  },
  {
   "cell_type": "code",
   "execution_count": null,
   "id": "7124a4b5",
   "metadata": {},
   "outputs": [],
   "source": []
  },
  {
   "cell_type": "code",
   "execution_count": null,
   "id": "efdc0737",
   "metadata": {},
   "outputs": [],
   "source": []
  },
  {
   "cell_type": "code",
   "execution_count": null,
   "id": "cb259d50",
   "metadata": {},
   "outputs": [],
   "source": []
  },
  {
   "cell_type": "code",
   "execution_count": null,
   "id": "09b0eb04",
   "metadata": {},
   "outputs": [],
   "source": []
  }
 ],
 "metadata": {
  "kernelspec": {
   "display_name": "spylon-kernel",
   "language": "scala",
   "name": "spylon-kernel"
  },
  "language_info": {
   "codemirror_mode": "text/x-scala",
   "file_extension": ".scala",
   "help_links": [
    {
     "text": "MetaKernel Magics",
     "url": "https://metakernel.readthedocs.io/en/latest/source/README.html"
    }
   ],
   "mimetype": "text/x-scala",
   "name": "scala",
   "pygments_lexer": "scala",
   "version": "0.4.1"
  }
 },
 "nbformat": 4,
 "nbformat_minor": 5
}
